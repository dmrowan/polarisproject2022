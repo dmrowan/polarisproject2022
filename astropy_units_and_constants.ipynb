{
 "cells": [
  {
   "cell_type": "markdown",
   "id": "1ba44396",
   "metadata": {},
   "source": [
    "# Astropy units & constants examples\n",
    "\n",
    "Documentation for astropy units:\n",
    "\n",
    "https://docs.astropy.org/en/stable/units/index.html\n",
    "\n",
    "The default constants available in astropy are found at the bottom of this page:\n",
    "\n",
    "https://docs.astropy.org/en/stable/constants/index.html"
   ]
  },
  {
   "cell_type": "code",
   "execution_count": 1,
   "id": "6feb9c64",
   "metadata": {},
   "outputs": [],
   "source": [
    "from astropy import units as u\n",
    "from astropy import constants as const"
   ]
  },
  {
   "cell_type": "code",
   "execution_count": 2,
   "id": "b371cf3e",
   "metadata": {},
   "outputs": [
    {
     "name": "stdout",
     "output_type": "stream",
     "text": [
      "1.989e+30 kg\n"
     ]
    }
   ],
   "source": [
    "#Example of assigning a mass units\n",
    "solar_mass = 1.989e30*u.kg\n",
    "print(solar_mass)"
   ]
  },
  {
   "cell_type": "code",
   "execution_count": 6,
   "id": "0e6f8c94",
   "metadata": {},
   "outputs": [
    {
     "name": "stdout",
     "output_type": "stream",
     "text": [
      "1.0002967845365511 solMass\n",
      "333044.89157562307 earthMass\n",
      "1.0002967845365511\n"
     ]
    }
   ],
   "source": [
    "#This can be converted to equivalent units\n",
    "print(solar_mass.to('Msun'))\n",
    "print(solar_mass.to('Mearth'))\n",
    "\n",
    "#To access the value directly, use the '.value' attribute\n",
    "print(solar_mass.to('Msun').value)"
   ]
  },
  {
   "cell_type": "code",
   "execution_count": 9,
   "id": "f2f82262",
   "metadata": {},
   "outputs": [
    {
     "name": "stdout",
     "output_type": "stream",
     "text": [
      "40.0 km / s\n",
      "2000.0 km / s\n"
     ]
    }
   ],
   "source": [
    "#You can also do compound units\n",
    "#Example for a velocity\n",
    "\n",
    "velocity1 = 40*(u.km/u.s)\n",
    "print(velocity1)\n",
    "\n",
    "velocity2 = 2000*u.Unit('km/s')\n",
    "print(velocity2)"
   ]
  },
  {
   "cell_type": "code",
   "execution_count": 10,
   "id": "ae8f084f",
   "metadata": {},
   "outputs": [
    {
     "name": "stdout",
     "output_type": "stream",
     "text": [
      "8.437981062787948 AU / yr\n"
     ]
    }
   ],
   "source": [
    "#Compound units can also be converted\n",
    "\n",
    "print(velocity1.to('AU/yr'))"
   ]
  },
  {
   "cell_type": "code",
   "execution_count": 11,
   "id": "dc7f5dd5",
   "metadata": {},
   "outputs": [
    {
     "data": {
      "text/latex": [
       "$7.956 \\times 10^{31} \\; \\mathrm{\\frac{kg\\,km}{s}}$"
      ],
      "text/plain": [
       "<Quantity 7.956e+31 kg km / s>"
      ]
     },
     "execution_count": 11,
     "metadata": {},
     "output_type": "execute_result"
    }
   ],
   "source": [
    "#You can also multiply quantities with units\n",
    "solar_mass*velocity1"
   ]
  },
  {
   "cell_type": "code",
   "execution_count": 12,
   "id": "6b27eba9",
   "metadata": {},
   "outputs": [
    {
     "data": {
      "text/latex": [
       "$1814.9758 \\; \\mathrm{\\frac{M_{\\odot}\\,R_{\\odot}}{yr}}$"
      ],
      "text/plain": [
       "<Quantity 1814.97575436 solMass solRad / yr>"
      ]
     },
     "execution_count": 12,
     "metadata": {},
     "output_type": "execute_result"
    }
   ],
   "source": [
    "#You can choose your units, or let astropy convert everything to cgs\n",
    "(solar_mass*velocity1).to('Msun Rsun/yr')"
   ]
  },
  {
   "cell_type": "code",
   "execution_count": 13,
   "id": "e0bc0c02",
   "metadata": {},
   "outputs": [
    {
     "data": {
      "text/latex": [
       "$7.956 \\times 10^{39} \\; \\mathrm{dyn\\,s}$"
      ],
      "text/plain": [
       "<Quantity 7.956e+39 dyn s>"
      ]
     },
     "execution_count": 13,
     "metadata": {},
     "output_type": "execute_result"
    }
   ],
   "source": [
    "(solar_mass*velocity1).cgs"
   ]
  },
  {
   "cell_type": "code",
   "execution_count": 14,
   "id": "b5981875",
   "metadata": {},
   "outputs": [
    {
     "data": {
      "text/latex": [
       "$6.6743 \\times 10^{-11} \\; \\mathrm{\\frac{m^{3}}{kg\\,s^{2}}}$"
      ],
      "text/plain": [
       "<<class 'astropy.constants.codata2018.CODATA2018'> name='Gravitational constant' value=6.6743e-11 uncertainty=1.5e-15 unit='m3 / (kg s2)' reference='CODATA 2018'>"
      ]
     },
     "execution_count": 14,
     "metadata": {},
     "output_type": "execute_result"
    }
   ],
   "source": [
    "#Astropy also includes many constants that are handled just like quantities\n",
    "const.G"
   ]
  },
  {
   "cell_type": "code",
   "execution_count": 16,
   "id": "cd5af2bf",
   "metadata": {},
   "outputs": [
    {
     "data": {
      "text/latex": [
       "$3.3719994 \\times 10^{-20} \\; \\mathrm{\\frac{pc^{3}}{M_{\\odot}\\,d^{2}}}$"
      ],
      "text/plain": [
       "<Quantity 3.37199936e-20 pc3 / (d2 solMass)>"
      ]
     },
     "execution_count": 16,
     "metadata": {},
     "output_type": "execute_result"
    }
   ],
   "source": [
    "#Can represent G in different units\n",
    "const.G.to('pc^3/(Msun day^2)')"
   ]
  },
  {
   "cell_type": "code",
   "execution_count": 17,
   "id": "5643ad72",
   "metadata": {},
   "outputs": [
    {
     "data": {
      "text/latex": [
       "$6.6743 \\times 10^{-8} \\; \\mathrm{\\frac{cm^{3}}{g\\,s^{2}}}$"
      ],
      "text/plain": [
       "<Quantity 6.6743e-08 cm3 / (g s2)>"
      ]
     },
     "execution_count": 17,
     "metadata": {},
     "output_type": "execute_result"
    }
   ],
   "source": [
    "#or just convert to cgs\n",
    "const.G.cgs"
   ]
  },
  {
   "cell_type": "code",
   "execution_count": null,
   "id": "f20e8e72",
   "metadata": {},
   "outputs": [],
   "source": []
  }
 ],
 "metadata": {
  "kernelspec": {
   "display_name": "Python 3 (ipykernel)",
   "language": "python",
   "name": "python3"
  },
  "language_info": {
   "codemirror_mode": {
    "name": "ipython",
    "version": 3
   },
   "file_extension": ".py",
   "mimetype": "text/x-python",
   "name": "python",
   "nbconvert_exporter": "python",
   "pygments_lexer": "ipython3",
   "version": "3.7.10"
  }
 },
 "nbformat": 4,
 "nbformat_minor": 5
}
